{
  "cells": [
    {
      "cell_type": "code",
      "execution_count": 1,
      "metadata": {
        "colab": {
          "base_uri": "https://localhost:8080/"
        },
        "id": "VeMNplMO3yFR",
        "outputId": "f3c655c5-98af-407d-d0c4-d74afefd747c"
      },
      "outputs": [
        {
          "name": "stdout",
          "output_type": "stream",
          "text": [
            "Cloning into 'transformers'...\n",
            "remote: Enumerating objects: 119102, done.\u001b[K\n",
            "remote: Counting objects: 100% (22/22), done.\u001b[K\n",
            "remote: Compressing objects: 100% (12/12), done.\u001b[K\n",
            "remote: Total 119102 (delta 8), reused 17 (delta 7), pack-reused 119080\u001b[K\n",
            "Receiving objects: 100% (119102/119102), 112.75 MiB | 3.69 MiB/s, done.\n",
            "Resolving deltas: 100% (88909/88909), done.\n",
            "/Users/mudassir/Documents/ML Project/transformers\n",
            "Defaulting to user installation because normal site-packages is not writeable\n",
            "Processing /Users/mudassir/Documents/ML Project/transformers\n",
            "  Installing build dependencies ... \u001b[?25ldone\n",
            "\u001b[?25h  Getting requirements to build wheel ... \u001b[?25ldone\n",
            "\u001b[?25h  Preparing metadata (pyproject.toml) ... \u001b[?25ldone\n",
            "\u001b[?25hCollecting tokenizers!=0.11.3,<0.14,>=0.11.1\n",
            "  Downloading tokenizers-0.13.2-cp39-cp39-macosx_12_0_arm64.whl (3.7 MB)\n",
            "\u001b[2K     \u001b[90m━━━━━━━━━━━━━━━━━━━━━━━━━━━━━━━━━━━━━━━━\u001b[0m \u001b[32m3.7/3.7 MB\u001b[0m \u001b[31m5.9 MB/s\u001b[0m eta \u001b[36m0:00:00\u001b[0m00:01\u001b[0m00:01\u001b[0m\n",
            "\u001b[?25hCollecting huggingface-hub<1.0,>=0.10.0\n",
            "  Downloading huggingface_hub-0.11.1-py3-none-any.whl (182 kB)\n",
            "\u001b[2K     \u001b[90m━━━━━━━━━━━━━━━━━━━━━━━━━━━━━━━━━━━━━━━\u001b[0m \u001b[32m182.4/182.4 kB\u001b[0m \u001b[31m5.9 MB/s\u001b[0m eta \u001b[36m0:00:00\u001b[0ma \u001b[36m0:00:01\u001b[0m\n",
            "\u001b[?25hRequirement already satisfied: pyyaml>=5.1 in /Users/mudassir/Library/Python/3.9/lib/python/site-packages (from transformers==4.26.0.dev0) (6.0)\n",
            "Requirement already satisfied: regex!=2019.12.17 in /Users/mudassir/Library/Python/3.9/lib/python/site-packages (from transformers==4.26.0.dev0) (2022.10.31)\n",
            "Requirement already satisfied: numpy>=1.17 in /Users/mudassir/Library/Python/3.9/lib/python/site-packages (from transformers==4.26.0.dev0) (1.23.5)\n",
            "Requirement already satisfied: packaging>=20.0 in /Users/mudassir/Library/Python/3.9/lib/python/site-packages (from transformers==4.26.0.dev0) (22.0)\n",
            "Requirement already satisfied: tqdm>=4.27 in /Users/mudassir/Library/Python/3.9/lib/python/site-packages (from transformers==4.26.0.dev0) (4.64.1)\n",
            "Requirement already satisfied: requests in /Users/mudassir/Library/Python/3.9/lib/python/site-packages (from transformers==4.26.0.dev0) (2.28.1)\n",
            "Requirement already satisfied: filelock in /Users/mudassir/Library/Python/3.9/lib/python/site-packages (from transformers==4.26.0.dev0) (3.8.2)\n",
            "Requirement already satisfied: typing-extensions>=3.7.4.3 in /Users/mudassir/Library/Python/3.9/lib/python/site-packages (from huggingface-hub<1.0,>=0.10.0->transformers==4.26.0.dev0) (4.4.0)\n",
            "Requirement already satisfied: urllib3<1.27,>=1.21.1 in /Users/mudassir/Library/Python/3.9/lib/python/site-packages (from requests->transformers==4.26.0.dev0) (1.26.13)\n",
            "Requirement already satisfied: charset-normalizer<3,>=2 in /Users/mudassir/Library/Python/3.9/lib/python/site-packages (from requests->transformers==4.26.0.dev0) (2.1.1)\n",
            "Requirement already satisfied: certifi>=2017.4.17 in /Users/mudassir/Library/Python/3.9/lib/python/site-packages (from requests->transformers==4.26.0.dev0) (2022.9.24)\n",
            "Requirement already satisfied: idna<4,>=2.5 in /Users/mudassir/Library/Python/3.9/lib/python/site-packages (from requests->transformers==4.26.0.dev0) (3.4)\n",
            "Building wheels for collected packages: transformers\n",
            "  Building wheel for transformers (pyproject.toml) ... \u001b[?25ldone\n",
            "\u001b[?25h  Created wheel for transformers: filename=transformers-4.26.0.dev0-py3-none-any.whl size=5961980 sha256=e5cdeb346df18d97f675f157965a67cffd4d089060317787b50ea5eff5ec4e20\n",
            "  Stored in directory: /private/var/folders/sj/3qt24drs44q280b98w0pfl_40000gn/T/pip-ephem-wheel-cache-0e1p4jaa/wheels/75/f8/8e/0f37c4fbff6e4be913088afcefb34087ccf7d6e099d70e1ada\n",
            "Successfully built transformers\n",
            "Installing collected packages: tokenizers, huggingface-hub, transformers\n",
            "\u001b[33m  WARNING: The script huggingface-cli is installed in '/Users/mudassir/Library/Python/3.9/bin' which is not on PATH.\n",
            "  Consider adding this directory to PATH or, if you prefer to suppress this warning, use --no-warn-script-location.\u001b[0m\u001b[33m\n",
            "\u001b[0m\u001b[33m  WARNING: The script transformers-cli is installed in '/Users/mudassir/Library/Python/3.9/bin' which is not on PATH.\n",
            "  Consider adding this directory to PATH or, if you prefer to suppress this warning, use --no-warn-script-location.\u001b[0m\u001b[33m\n",
            "\u001b[0mSuccessfully installed huggingface-hub-0.11.1 tokenizers-0.13.2 transformers-4.26.0.dev0\n"
          ]
        }
      ],
      "source": [
        "!git clone https://github.com/huggingface/transformers\n",
        "%cd transformers\n",
        "!pip3 install ."
      ]
    },
    {
      "cell_type": "code",
      "execution_count": 7,
      "metadata": {
        "colab": {
          "base_uri": "https://localhost:8080/"
        },
        "id": "mU8fPvM54JcH",
        "outputId": "2a87b90e-b291-475c-d428-bb89f35c34c8"
      },
      "outputs": [
        {
          "name": "stdout",
          "output_type": "stream",
          "text": [
            "Already up to date.\n",
            "Defaulting to user installation because normal site-packages is not writeable\n",
            "Processing /Users/mudassir/Documents/ML Project/transformers\n",
            "  Installing build dependencies ... \u001b[?25ldone\n",
            "\u001b[?25h  Getting requirements to build wheel ... \u001b[?25ldone\n",
            "\u001b[?25h  Preparing metadata (pyproject.toml) ... \u001b[?25ldone\n",
            "\u001b[?25hRequirement already satisfied: regex!=2019.12.17 in /Users/mudassir/Library/Python/3.9/lib/python/site-packages (from transformers==4.26.0.dev0) (2022.10.31)\n",
            "Requirement already satisfied: numpy>=1.17 in /Users/mudassir/Library/Python/3.9/lib/python/site-packages (from transformers==4.26.0.dev0) (1.23.5)\n",
            "Requirement already satisfied: filelock in /Users/mudassir/Library/Python/3.9/lib/python/site-packages (from transformers==4.26.0.dev0) (3.8.2)\n",
            "Requirement already satisfied: requests in /Users/mudassir/Library/Python/3.9/lib/python/site-packages (from transformers==4.26.0.dev0) (2.28.1)\n",
            "Requirement already satisfied: tokenizers!=0.11.3,<0.14,>=0.11.1 in /Users/mudassir/Library/Python/3.9/lib/python/site-packages (from transformers==4.26.0.dev0) (0.13.2)\n",
            "Requirement already satisfied: pyyaml>=5.1 in /Users/mudassir/Library/Python/3.9/lib/python/site-packages (from transformers==4.26.0.dev0) (6.0)\n",
            "Requirement already satisfied: tqdm>=4.27 in /Users/mudassir/Library/Python/3.9/lib/python/site-packages (from transformers==4.26.0.dev0) (4.64.1)\n",
            "Requirement already satisfied: huggingface-hub<1.0,>=0.10.0 in /Users/mudassir/Library/Python/3.9/lib/python/site-packages (from transformers==4.26.0.dev0) (0.11.1)\n",
            "Requirement already satisfied: packaging>=20.0 in /Users/mudassir/Library/Python/3.9/lib/python/site-packages (from transformers==4.26.0.dev0) (22.0)\n",
            "Requirement already satisfied: typing-extensions>=3.7.4.3 in /Users/mudassir/Library/Python/3.9/lib/python/site-packages (from huggingface-hub<1.0,>=0.10.0->transformers==4.26.0.dev0) (4.4.0)\n",
            "Requirement already satisfied: urllib3<1.27,>=1.21.1 in /Users/mudassir/Library/Python/3.9/lib/python/site-packages (from requests->transformers==4.26.0.dev0) (1.26.13)\n",
            "Requirement already satisfied: certifi>=2017.4.17 in /Users/mudassir/Library/Python/3.9/lib/python/site-packages (from requests->transformers==4.26.0.dev0) (2022.9.24)\n",
            "Requirement already satisfied: idna<4,>=2.5 in /Users/mudassir/Library/Python/3.9/lib/python/site-packages (from requests->transformers==4.26.0.dev0) (3.4)\n",
            "Requirement already satisfied: charset-normalizer<3,>=2 in /Users/mudassir/Library/Python/3.9/lib/python/site-packages (from requests->transformers==4.26.0.dev0) (2.1.1)\n",
            "Building wheels for collected packages: transformers\n",
            "  Building wheel for transformers (pyproject.toml) ... \u001b[?25ldone\n",
            "\u001b[?25h  Created wheel for transformers: filename=transformers-4.26.0.dev0-py3-none-any.whl size=5961980 sha256=7d2ecdd9b3275156cfdac4be2fc22a8891a8b8a3cc4e3ef6a7b3bac816fa894b\n",
            "  Stored in directory: /private/var/folders/sj/3qt24drs44q280b98w0pfl_40000gn/T/pip-ephem-wheel-cache-i2474fct/wheels/75/f8/8e/0f37c4fbff6e4be913088afcefb34087ccf7d6e099d70e1ada\n",
            "Successfully built transformers\n",
            "Installing collected packages: transformers\n",
            "  Attempting uninstall: transformers\n",
            "    Found existing installation: transformers 4.26.0.dev0\n",
            "    Uninstalling transformers-4.26.0.dev0:\n",
            "      Successfully uninstalled transformers-4.26.0.dev0\n",
            "\u001b[33m  WARNING: The script transformers-cli is installed in '/Users/mudassir/Library/Python/3.9/bin' which is not on PATH.\n",
            "  Consider adding this directory to PATH or, if you prefer to suppress this warning, use --no-warn-script-location.\u001b[0m\u001b[33m\n",
            "\u001b[0mSuccessfully installed transformers-4.26.0.dev0\n",
            "Defaulting to user installation because normal site-packages is not writeable\n",
            "Requirement already satisfied: sentencepiece in /Users/mudassir/Library/Python/3.9/lib/python/site-packages (0.1.97)\n",
            "Defaulting to user installation because normal site-packages is not writeable\n",
            "Collecting torch\n",
            "  Downloading torch-1.13.0-cp39-none-macosx_11_0_arm64.whl (55.7 MB)\n",
            "\u001b[2K     \u001b[90m━━━━━━━━━━━━━━━━━━━━━━━━━━━━━━━━━━━━━━━━\u001b[0m \u001b[32m55.7/55.7 MB\u001b[0m \u001b[31m1.8 MB/s\u001b[0m eta \u001b[36m0:00:00\u001b[0m00:01\u001b[0m00:02\u001b[0mm\n",
            "\u001b[?25hRequirement already satisfied: typing-extensions in /Users/mudassir/Library/Python/3.9/lib/python/site-packages (from torch) (4.4.0)\n",
            "Installing collected packages: torch\n",
            "\u001b[33m  WARNING: The scripts convert-caffe2-to-onnx, convert-onnx-to-caffe2 and torchrun are installed in '/Users/mudassir/Library/Python/3.9/bin' which is not on PATH.\n",
            "  Consider adding this directory to PATH or, if you prefer to suppress this warning, use --no-warn-script-location.\u001b[0m\u001b[33m\n",
            "\u001b[0mSuccessfully installed torch-1.13.0\n"
          ]
        }
      ],
      "source": [
        "!git pull\n",
        "!pip3 install --upgrade .\n",
        "!pip3 install -r requirements.txt\n"
      ]
    },
    {
      "cell_type": "code",
      "execution_count": 8,
      "metadata": {
        "colab": {
          "base_uri": "https://localhost:8080/"
        },
        "id": "ceeSU85r4dFG",
        "outputId": "589cfe1a-45b7-48f2-d6b3-5ce22fdb39d1"
      },
      "outputs": [
        {
          "data": {
            "text/plain": [
              "958"
            ]
          },
          "execution_count": 8,
          "metadata": {},
          "output_type": "execute_result"
        }
      ],
      "source": [
        "import gc\n",
        "gc.collect()"
      ]
    },
    {
      "cell_type": "code",
      "execution_count": 9,
      "metadata": {
        "id": "gQcgvuD-4gQM"
      },
      "outputs": [],
      "source": [
        "src_text = [ \"\"\"\n",
        "Moscow: President Vladimir Putin on Tuesday called for a joint effort by the BRICS countries on the development of the coronavirus vaccines as he suggested that Russia's Sputnik V vaccine against COVID-19 could be produced in China and India, which are members of the five-nation bloc.\n",
        "\"We believe it is important to speed up the establishment of the centre for development and research of BRICS vaccines, which we agreed to do two years ago, upon the initiative of our South African friends,\" Mr Putin said while addressing the 12th BRICS summit via videoconferencing.\n",
        "\n",
        "The summit, hosted by President Putin, was attended by Prime Minister Narendra Modi, Chinese President Xi Jinping, Brazilian President Jair Bolsonaro and South African President Cyril Ramaphosa.\n",
        "\n",
        "Mr Putin said that Russia's Sputnik V vaccine that was registered in August could be produced in China and India, both members of the BRICS, Sputniknews reported.\n",
        "\n",
        "\"The Russian Direct Investment Fund has reached agreements with its Brazilian and Indian partners on conducting clinical trials of the Sputnik V vaccine, it has also reached an agreement with pharmaceutical companies in China and India to launch production of the vaccine in these countries not just to cover their needs, but for third countries as well,\" Mr Putin said.\n",
        "\n",
        "On August 11, Russia became the world's first country to register a coronavirus vaccine, dubbed Sputnik V. The vaccine was developed by the Gamaleya Research Institute, while the Russian Direct Investment Fund (RDIF) is investing in the production and promotion of the vaccine abroad. Another Russian vaccine, EpiCoronaVac, produced by Vector Research Centre, was registered in October.\n",
        "\n",
        "President Putin at the time said that the Sputnik V works \"quite effectively\" and forms a \"stable immunity\" against the deadly disease. He had disclosed that one of his daughters had tested a Russian COVID-19 vaccine on herself and that she is feeling well.\n",
        "\n",
        "Sputnik V vaccine has shown 92 per cent efficacy in preventing COVID-19, according to interim trial results announced by the country's health ministry last week.\n",
        "\n",
        "The vaccine has been named Sputnik-V. The name is a reference to the surprise 1957 launch of the world's first satellite by the Soviet Union.\n",
        "\n",
        "The 12th BRICS summit was originally scheduled to be held in Saint Petersburg in July but had to be postponed due to the outbreak of the global COVID-19 pandemic.\n",
        "\n",
        "So far the coronavirus has infected more than 54 million people around the world and killed more than 1.3 million people even as governments implemented strict lockdowns and restrictions to slow the spread of the virus that originated in the Chinese city of Wuhan.\n",
        "\n",
        "A second wave of infections is threatening to derail economies and impact lives again as countries have gradually begun to ease restrictions and open up.\n",
        "\n",
        "The BRICS (Brazil-Russia-India-China-South Africa) is known as an influential bloc that represents over 3.6 billion people, or half of the world's population. The BRICS countries have a combined GDP of USD 16.6 trillion.\n",
        "\"\"\"          \n",
        "]"
      ]
    },
    {
      "cell_type": "code",
      "execution_count": 10,
      "metadata": {
        "colab": {
          "base_uri": "https://localhost:8080/"
        },
        "id": "BlpNUU5N4jW5",
        "outputId": "c56deff8-fcfe-454c-cd27-059ef148bf0a"
      },
      "outputs": [
        {
          "name": "stderr",
          "output_type": "stream",
          "text": [
            "/Users/mudassir/Library/Python/3.9/lib/python/site-packages/tqdm/auto.py:22: TqdmWarning: IProgress not found. Please update jupyter and ipywidgets. See https://ipywidgets.readthedocs.io/en/stable/user_install.html\n",
            "  from .autonotebook import tqdm as notebook_tqdm\n",
            "Downloading: 100%|██████████| 1.91M/1.91M [00:00<00:00, 4.70MB/s]\n",
            "Downloading: 100%|██████████| 65.0/65.0 [00:00<00:00, 17.2kB/s]\n",
            "Downloading: 100%|██████████| 87.0/87.0 [00:00<00:00, 27.3kB/s]\n",
            "Downloading: 100%|██████████| 1.12k/1.12k [00:00<00:00, 491kB/s]\n",
            "Downloading: 100%|██████████| 2.28G/2.28G [11:36<00:00, 3.27MB/s]\n",
            "/Users/mudassir/Library/Python/3.9/lib/python/site-packages/transformers/tokenization_utils_base.py:3704: FutureWarning: \n",
            "`prepare_seq2seq_batch` is deprecated and will be removed in version 5 of HuggingFace Transformers. Use the regular\n",
            "`__call__` method to prepare your inputs and targets.\n",
            "\n",
            "Here is a short example:\n",
            "\n",
            "model_inputs = tokenizer(src_texts, text_target=tgt_texts, ...)\n",
            "\n",
            "If you either need to use different keyword arguments for the source and target texts, you should do two calls like\n",
            "this:\n",
            "\n",
            "model_inputs = tokenizer(src_texts, ...)\n",
            "labels = tokenizer(text_target=tgt_texts, ...)\n",
            "model_inputs[\"labels\"] = labels[\"input_ids\"]\n",
            "\n",
            "See the documentation of your specific tokenizer for more details on the specific arguments to the tokenizer of choice.\n",
            "For a more complete example, see the implementation of `prepare_seq2seq_batch`.\n",
            "\n",
            "  warnings.warn(formatted_warning, FutureWarning)\n",
            "/Users/mudassir/Library/Python/3.9/lib/python/site-packages/transformers/generation/utils.py:1387: UserWarning: Neither `max_length` nor `max_new_tokens` has been set, `max_length` will default to 128 (`self.config.max_length`). Controlling `max_length` via the config is deprecated and `max_length` will be removed from the config in v5 of Transformers -- we recommend using `max_new_tokens` to control the maximum length of the generation.\n",
            "  warnings.warn(\n"
          ]
        }
      ],
      "source": [
        "import torch\n",
        "from transformers import PegasusForConditionalGeneration, PegasusTokenizer\n",
        "\n",
        "model_name = 'google/pegasus-reddit_tifu'\n",
        "tokenizer = PegasusTokenizer.from_pretrained(model_name)\n",
        "model = PegasusForConditionalGeneration.from_pretrained(model_name).to('cpu')\n",
        "batch = tokenizer.prepare_seq2seq_batch(src_text, truncation=True, padding='longest', return_tensors=\"pt\").to('cpu')\n",
        "translated = model.generate(**batch)\n",
        "tgt_text = tokenizer.batch_decode(translated, skip_special_tokens=True)"
      ]
    },
    {
      "cell_type": "code",
      "execution_count": 13,
      "metadata": {
        "colab": {
          "base_uri": "https://localhost:8080/",
          "height": 53
        },
        "id": "f8cMP2Wj6k1a",
        "outputId": "f6cce362-0fbe-41a4-a1c7-6726775c50aa"
      },
      "outputs": [
        {
          "data": {
            "text/plain": [
              "\"Moscow: President Vladimir Putin on Tuesday called for a joint effort by the BRICS countries on the development of the coronavirus vaccines as he suggested that Russia's Sputnik V vaccine against COVID-19 could be produced in China and India, which are members of the five-nation bloc.\""
            ]
          },
          "execution_count": 13,
          "metadata": {},
          "output_type": "execute_result"
        }
      ],
      "source": [
        "tgt_text[0]"
      ]
    }
  ],
  "metadata": {
    "colab": {
      "provenance": []
    },
    "kernelspec": {
      "display_name": "Python 3.9.6 64-bit",
      "language": "python",
      "name": "python3"
    },
    "language_info": {
      "codemirror_mode": {
        "name": "ipython",
        "version": 3
      },
      "file_extension": ".py",
      "mimetype": "text/x-python",
      "name": "python",
      "nbconvert_exporter": "python",
      "pygments_lexer": "ipython3",
      "version": "3.9.6"
    },
    "vscode": {
      "interpreter": {
        "hash": "31f2aee4e71d21fbe5cf8b01ff0e069b9275f58929596ceb00d14d90e3e16cd6"
      }
    }
  },
  "nbformat": 4,
  "nbformat_minor": 0
}
